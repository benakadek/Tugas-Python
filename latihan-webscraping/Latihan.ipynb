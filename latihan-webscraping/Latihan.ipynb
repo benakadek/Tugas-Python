{
 "cells": [
  {
   "cell_type": "markdown",
   "metadata": {},
   "source": [
    "NIM           : 170010178\n",
    "\n",
    "NAMA LENGKAP  : I Kadek Bena Manuriadi Putra"
   ]
  },
  {
   "cell_type": "markdown",
   "metadata": {},
   "source": [
    "### Latihan\n",
    "\n",
    "Instruksi pengerjaan:\n",
    "- Tulis kode program di tempat yang sudah disediakan\n",
    "- Jangan menambah, menghapus, ataupun memodifikasi kode program yang sudah secara _default_ tersedia."
   ]
  },
  {
   "cell_type": "code",
   "execution_count": 48,
   "metadata": {},
   "outputs": [],
   "source": [
    "# Import library yang diperlukan di sini\n",
    "from urllib.request import urlopen\n",
    "from urllib.error import HTTPError\n",
    "from urllib.error import URLError\n",
    "from bs4 import BeautifulSoup\n",
    "from collections import Counter "
   ]
  },
  {
   "cell_type": "code",
   "execution_count": 49,
   "metadata": {},
   "outputs": [],
   "source": [
    "url = {'url1': 'http://www.pythonscraping.com/pages/page1.html',\n",
    "       'url2': 'http://www.pythonscraping.com/pages/warandpeace.html',\n",
    "       'url3': 'http://www.pythonscraping.com/pages/page3.html'}"
   ]
  },
  {
   "cell_type": "code",
   "execution_count": 50,
   "metadata": {},
   "outputs": [],
   "source": [
    "def read_html(url):\n",
    "    \"\"\" \n",
    "    url         : Website URL yang akan di-parsing\n",
    "    html_parser : Tipe HTML parser yang akan digunakan\n",
    "    \"\"\"\n",
    "    try:\n",
    "        html = urlopen(url) # Tulis kode program di sini \n",
    "        bsObj = BeautifulSoup(html.read(), 'html5lib') # Tulis kode program di sini \n",
    "    except HTTPError as e:\n",
    "        print('The server returned an HTTP error') \n",
    "    except URLError as e:\n",
    "        print('The server could not be found!') \n",
    "    except AttributeError as e:\n",
    "        return None\n",
    "    \n",
    "    return bsObj # Tulis kode program di sini"
   ]
  },
  {
   "cell_type": "code",
   "execution_count": 51,
   "metadata": {},
   "outputs": [
    {
     "output_type": "stream",
     "name": "stdout",
     "text": "['Anna\\nPavlovna Scherer', 'Empress Marya\\nFedorovna', 'Prince Vasili Kuragin']\n['The prince', 'Anna Pavlovna', 'the Empress']\n"
    }
   ],
   "source": [
    "#https://coddyschool.com/upload/Web-Scraping-with-Python_proglib.pdf bena dapat pencerahan disana pak\n",
    "obj = read_html('http://www.pythonscraping.com/pages/warandpeace.html')\n",
    "nameList = obj.findAll('span', {'class': 'green'}) # Scraping all text in tag span, with class='green'\n",
    "\n",
    "# Simpan text di dalam sebuah list 'namelist'\n",
    "namelist = [x.get_text() for x in nameList]\n",
    "\n",
    "# Dari list tersebut kemudian ambil text yang bersifat unik saja\n",
    "uniquename = []        \n",
    "uniq = list(map(lambda st: str.replace(st, 'the prince', \"The prince\"), namelist))\n",
    "uniq = [item for items, c in Counter(uniq).most_common() for item in [items] * c]\n",
    "\n",
    "for x in uniq:\n",
    "    if x not in uniquename:\n",
    "        uniquename.append(x)\n",
    "\n",
    "print(namelist[:3])\n",
    "print(uniquename[:3])\n",
    "\n",
    "# Output yang seharusnya:\n",
    "# ['Anna\\nPavlovna Scherer', 'Empress Marya\\nFedorovna', 'Prince Vasili Kuragin']\n",
    "# ['The prince', 'Anna Pavlovna', 'the Empress']"
   ]
  },
  {
   "cell_type": "code",
   "execution_count": 52,
   "metadata": {},
   "outputs": [
    {
     "output_type": "stream",
     "name": "stdout",
     "text": "['Anna Pavlovna Scherer', 'Empress Marya Fedorovna', 'Prince Vasili Kuragin']\n"
    }
   ],
   "source": [
    "# Hapus karakter \"\\n\" yang terdapat di dalam 'namelist'\n",
    "# Tulis kode program di sini\n",
    "namelist = [x.replace(\"\\n\", \" \") for x in namelist]\n",
    "\n",
    "print(namelist[:3])\n",
    "\n",
    "# Output yang seharusnya:\n",
    "# ['Anna Pavlovna Scherer', 'Empress Marya Fedorovna', 'Prince Vasili Kuragin']"
   ]
  },
  {
   "cell_type": "code",
   "execution_count": 53,
   "metadata": {},
   "outputs": [
    {
     "output_type": "stream",
     "name": "stdout",
     "text": "['Anatole', 'Rohans']\n"
    }
   ],
   "source": [
    "# Di dalam objek 'uniquename', print nama yang panjangnya tidak lebih dari 8 karakter\n",
    "filtered = uniquename # Tulis kode program di sini\n",
    "result_list = list(filter(lambda a: len(a) < 8, filtered))[::-1]\n",
    "print(result_list)\n",
    "    \n",
    "# Output yang seharusnya:\n",
    "# ['Anatole', 'Rohans']"
   ]
  },
  {
   "cell_type": "code",
   "execution_count": null,
   "metadata": {},
   "outputs": [],
   "source": []
  }
 ],
 "metadata": {
  "kernelspec": {
   "display_name": "Python 3.7.6 64-bit",
   "language": "python",
   "name": "python37664bit000270398ae04060bf26aa3fac6f5703"
  },
  "language_info": {
   "codemirror_mode": {
    "name": "ipython",
    "version": 3
   },
   "file_extension": ".py",
   "mimetype": "text/x-python",
   "name": "python",
   "nbconvert_exporter": "python",
   "pygments_lexer": "ipython3",
   "version": "3.7.6-final"
  }
 },
 "nbformat": 4,
 "nbformat_minor": 4
}