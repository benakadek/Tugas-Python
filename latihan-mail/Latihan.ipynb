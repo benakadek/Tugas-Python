{
 "cells": [
  {
   "cell_type": "code",
   "execution_count": null,
   "metadata": {},
   "outputs": [],
   "source": [
    "import argparse\n",
    "import getpass\n",
    "import imaplib\n",
    "import poplib\n",
    "import smtplib\n",
    "import os\n",
    "import socket \n"
   ]
  },
  {
   "cell_type": "code",
   "execution_count": null,
   "metadata": {},
   "outputs": [],
   "source": [
    "IMAP_SERVER = 'imap.googlemail.com'\n",
    "IMAP_PORT = 993\n",
    "\n",
    "POP_SERVER = 'pop.googlemail.com'\n",
    "POP_PORT = 995"
   ]
  },
  {
   "cell_type": "code",
   "execution_count": 1,
   "metadata": {},
   "outputs": [],
   "source": [
    "def imap_mail(username):\n",
    "    mailbox = imaplib.IMAP4_SSL(IMAP_SERVER, IMAP_PORT) \n",
    "    password = getpass.getpass(prompt='Enter your email password: ') \n",
    "    mailbox.login(username, password)\n",
    "    mailbox.select('Inbox')\n",
    "    typ, data = mailbox.search(None, 'ALL')\n",
    "    for num in data[0].split():\n",
    "        typ, data = mailbox.fetch(num, '(RFC822)')\n",
    "        print ('Message %s\\n%s\\n' % (num, data[0][1]))\n",
    "        break\n",
    "    mailbox.close()\n",
    "    mailbox.logout()\n",
    "    \n",
    "def pop_mail(username):\n",
    "    mailbox = poplib.POP3_SSL(POP_SERVER, POP_PORT) \n",
    "    mailbox.user(username)\n",
    "    password = getpass.getpass(prompt='Enter your email password: ') \n",
    "    mailbox.pass_(password) \n",
    "    num_messages = len(mailbox.list()[1])\n",
    "    print ('Total emails: {}'.format(num_messages))\n",
    "    mailbox.quit()"
   ]
  },
  {
   "cell_type": "markdown",
   "metadata": {},
   "source": [
    "Buatlah sebuah fungsi yang dapat menggabungkan fungsionalitas fungsi `imap_mail()` dan `pop_mail()`"
   ]
  },
  {
   "cell_type": "code",
   "execution_count": 3,
   "metadata": {},
   "outputs": [],
   "source": [
    "def mail():\n",
    "    protocol = input(\"Ketik pop_mail atau imap_mail : \")\n",
    "    if (protocol == \"imap_mail\"):\n",
    "        imap_mail('edwardyukihira@gmail.com')\n",
    "    else:\n",
    "        pop_mail('edwardyukihira@gmail.com')"
   ]
  },
  {
   "cell_type": "markdown",
   "metadata": {},
   "source": [
    "Panggil fungsi `mail()` di bawah ini:"
   ]
  },
  {
   "cell_type": "code",
   "execution_count": null,
   "metadata": {},
   "outputs": [],
   "source": [
    "if __name__ == '__main__':\n",
    "    mail()\n",
    "    "
   ]
  }
 ],
 "metadata": {
  "kernelspec": {
   "display_name": "Python 3",
   "language": "python",
   "name": "python3"
  },
  "language_info": {
   "codemirror_mode": {
    "name": "ipython",
    "version": 3
   },
   "file_extension": ".py",
   "mimetype": "text/x-python",
   "name": "python",
   "nbconvert_exporter": "python",
   "pygments_lexer": "ipython3",
   "version": "3.7.6-final"
  }
 },
 "nbformat": 4,
 "nbformat_minor": 4
}